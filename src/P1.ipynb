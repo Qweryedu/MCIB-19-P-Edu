{
 "cells": [
  {
   "cell_type": "code",
   "execution_count": 14,
   "metadata": {},
   "outputs": [
    {
     "name": "stdout",
     "output_type": "stream",
     "text": [
      "(18001,)\n",
      "(18001,)\n"
     ]
    }
   ],
   "source": [
    "'''\n",
    "Código de El Edu para abrir archivos, una parte se está tomando de los conocimientos previos del\n",
    "Dr. Omar Piña\n",
    "Sorry, not sorry\n",
    "19/9/19\n",
    "'''\n",
    "\n",
    "import numpy as np\n",
    "import matplotlib.pyplot as plt\n",
    "\n",
    "def abre(path, file_name):\n",
    "    data = np.loadtxt(path+file_name, delimiter=' ', dtype='str')\n",
    "    \n",
    "    return data\n",
    "\n",
    "path = '/home/edu/Documents/GitHub/MCIB-19-P-Edu/data/P1/'\n",
    "file = 'Apnea1.txt'\n",
    "file2 = 'Apnea1.csv'\n",
    "\n",
    "signaltxt = abre(path, file)\n",
    "signalcsv = abre(path, file2)\n",
    "\n",
    "print(signaltxt.shape)\n",
    "print(signalcsv.shape) #Qué pedo? \n",
    "\n",
    "#plt.figure(figsize=(20,15))\n",
    "#plt.plot(signal[:1000])\n",
    "#plt.show()"
   ]
  }
 ],
 "metadata": {
  "kernelspec": {
   "display_name": "Python 3",
   "language": "python",
   "name": "python3"
  },
  "language_info": {
   "codemirror_mode": {
    "name": "ipython",
    "version": 3
   },
   "file_extension": ".py",
   "mimetype": "text/x-python",
   "name": "python",
   "nbconvert_exporter": "python",
   "pygments_lexer": "ipython3",
   "version": "3.7.3"
  }
 },
 "nbformat": 4,
 "nbformat_minor": 2
}
