{
 "cells": [
  {
   "cell_type": "markdown",
   "metadata": {},
   "source": [
    "# 2. Esctructuras de datos"
   ]
  },
  {
   "cell_type": "markdown",
   "metadata": {},
   "source": [
    "## 2.1. Datos como objetos"
   ]
  },
  {
   "cell_type": "code",
   "execution_count": null,
   "metadata": {},
   "outputs": [],
   "source": [
    "#definir cadena vacia\n",
    "x = ''\n",
    "print( x )"
   ]
  },
  {
   "cell_type": "markdown",
   "metadata": {},
   "source": [
    "#### ¿Qué pasa si imprimimos dir(x)?"
   ]
  },
  {
   "cell_type": "code",
   "execution_count": null,
   "metadata": {},
   "outputs": [],
   "source": [
    "print( dir(x) )"
   ]
  },
  {
   "cell_type": "markdown",
   "metadata": {},
   "source": [
    "Es decir, x es interpretada como un objeto de clase String que tiene atributos y propiedades que pueden *invocarse* con el operador punto.\n",
    "##### por ejemplo:"
   ]
  },
  {
   "cell_type": "code",
   "execution_count": null,
   "metadata": {},
   "outputs": [],
   "source": [
    "x = 'abcd'\n",
    "print( x.upper() )"
   ]
  },
  {
   "cell_type": "markdown",
   "metadata": {},
   "source": [
    "#####  para el caso de objetos de punto flotante:"
   ]
  },
  {
   "cell_type": "code",
   "execution_count": null,
   "metadata": {},
   "outputs": [],
   "source": [
    "x = 2.75\n",
    "y = 2.\n",
    "\n",
    "print( dir(x) )"
   ]
  },
  {
   "cell_type": "code",
   "execution_count": null,
   "metadata": {},
   "outputs": [],
   "source": [
    "print( x.is_integer() )\n",
    "print( y.is_integer() )"
   ]
  },
  {
   "cell_type": "markdown",
   "metadata": {},
   "source": [
    "#### Ejemplo con Strings :\n",
    "<p style=\"background-color:#D8E3CF;\">\n",
    "Ayuda a nuestro bot capturista a arreglar el los errores de captura. Por algún motivo lo que debió haber sido una lista de colores se encuentra separada en dos listas. Si esto no fuera poco, el capturista original olvido poner coma antes del espacio.</p>"
   ]
  },
  {
   "cell_type": "code",
   "execution_count": null,
   "metadata": {},
   "outputs": [],
   "source": [
    "x = 'verde azul rojo negro amarillo naranja'\n",
    "y = 'violeta morado gris cafe rosa'\n",
    "\n",
    "print(x)\n",
    "print(y)"
   ]
  },
  {
   "cell_type": "markdown",
   "metadata": {},
   "source": [
    "<p style=\"background-color:#D8E3CF;\">\n",
    "    En primer lugar, se agregarán las comas, para ello se utilizará la función <i>replace</i> del objeto <i>String</i> </p>"
   ]
  },
  {
   "cell_type": "code",
   "execution_count": null,
   "metadata": {},
   "outputs": [],
   "source": [
    "print( help( x.replace ) )"
   ]
  },
  {
   "cell_type": "code",
   "execution_count": null,
   "metadata": {},
   "outputs": [],
   "source": [
    "x = x.replace(' ',', ')\n",
    "y = y.replace(' ',', ')\n",
    "\n",
    "print(x)\n",
    "print(y)"
   ]
  },
  {
   "cell_type": "markdown",
   "metadata": {},
   "source": [
    "<p style=\"background-color:#D8E3CF;\">\n",
    "Después, se utilizará la concatenación entre listas que se realiza con la sobrecarga del operador suma \"+\", por ejemplo: </p>\n",
    "\n",
    "```python\n",
    "  a = 'hola '\n",
    "  b = 'mundo'\n",
    "  print( a+b )\n",
    "```\n",
    "\n",
    "```bash\n",
    "  >> hola mundo\n",
    "```"
   ]
  },
  {
   "cell_type": "code",
   "execution_count": null,
   "metadata": {},
   "outputs": [],
   "source": [
    "colores = x+', '+y\n",
    "\n",
    "print(colores)"
   ]
  },
  {
   "cell_type": "markdown",
   "metadata": {},
   "source": [
    "## 2.2. Estructuras de datos\n",
    "\n",
    "### Listas\n",
    "Las listas se pueden crear *invocando* el método *list()* que es parte de la biblioteca estándar de python, aunque el método más común es listar los elementos separados por comas y encerrados entre corchetes:"
   ]
  },
  {
   "cell_type": "code",
   "execution_count": null,
   "metadata": {},
   "outputs": [],
   "source": [
    "#definicion\n",
    "x = [3, 5, 8, 10, 0, 20, 3, -11]"
   ]
  },
  {
   "cell_type": "markdown",
   "metadata": {},
   "source": [
    "#### Propiedades y funciones de la lista\n",
    "Las listas en python son estructuras de datos polimórficos, ya que se implementan a través de objetos, cuyos métodos pueden hacerlas comportarse como FIFO o LIFO."
   ]
  },
  {
   "cell_type": "code",
   "execution_count": null,
   "metadata": {},
   "outputs": [],
   "source": [
    "print( dir(list) )"
   ]
  },
  {
   "cell_type": "markdown",
   "metadata": {},
   "source": [
    "#### Ejemplo con list :\n",
    "<p style=\"background-color:#D8E3CF;\">\n",
    "Crear una lista de números -7, 2, 8.7, -10, y -.1; pedir al usuario un número; agregarlo a la lista e imprimirla; luego ordenar la lista e imprimir el resultado.</p>"
   ]
  },
  {
   "cell_type": "code",
   "execution_count": null,
   "metadata": {},
   "outputs": [],
   "source": [
    "x = [-7, 2, 8.7, -10, -.1]\n",
    "\n",
    "tmp = input('numero: ')\n",
    "tmp = float(tmp)\n",
    "\n",
    "x.append(tmp)\n",
    "print(x)\n",
    "\n",
    "x.sort()\n",
    "print(x)"
   ]
  },
  {
   "cell_type": "markdown",
   "metadata": {},
   "source": [
    "#### Selección de un elemento de la lista\n",
    "La selección se realiza con un índice que inicia desde cero y termina en L-1, donde L es el número de elementos de la lista, en otras palabras: L = len(x).\n",
    "\n",
    "Sean 7, 0, -1, 2, 9, 10, -7, 3, 5, y 0 los elementos de una lista llamada x:\n",
    "<img src=\"../../images/python_slice_00.png\" alt=\"\" style=\"width: 400px;\"/>\n",
    "\n",
    "para seleccionar el **primer elemento** de x cuyo índice corresponde al **0** se realiza de la siguiente forma:\n",
    "<img src=\"../../images/python_slice_01.png\" alt=\"\" style=\"width: 400px;\"/>\n",
    "\n",
    "para seleccionar el cuarto elemento (índice 3):\n",
    "<img src=\"../../images/python_slice_02.png\" alt=\"\" style=\"width: 400px;\"/>"
   ]
  },
  {
   "cell_type": "code",
   "execution_count": null,
   "metadata": {},
   "outputs": [],
   "source": [
    "x = [7, 0, -1, 2, 9, 10, -7, 3, 5, 0]\n",
    "\n",
    "print( len(x))\n",
    "print( x[0]  )\n",
    "print( x[3]  )"
   ]
  },
  {
   "cell_type": "markdown",
   "metadata": {},
   "source": [
    "\n",
    "Las *list* se implementan como listas circulares, esto permite recorrerlas en sentido contrario, lo anterior se expresa con índices negativos; de tal forma que el índice -1 es el que está detrás del 0, es decir el último elemento:\n",
    "<img src=\"../../images/python_slice_03.png\" alt=\"\" style=\"width: 400px;\"/>\n",
    "\n",
    "con esta misma lógica, el índice -2 corresponde al penúltimo elementos:\n",
    "<img src=\"../../images/python_slice_03a.png\" alt=\"\" style=\"width: 400px;\"/>"
   ]
  },
  {
   "cell_type": "code",
   "execution_count": null,
   "metadata": {},
   "outputs": [],
   "source": [
    "print( x[-1]  )\n",
    "print( x[-2]  )"
   ]
  },
  {
   "cell_type": "markdown",
   "metadata": {},
   "source": [
    "#### Slices\n",
    "Los *slices* permiten la selección sublistas de una lista x dada. \n",
    "\n",
    "La sintáxis\n",
    "```python\n",
    "  x[a:b]\n",
    "```\n",
    "seleccionará los elementos de x que estén comprendidos entre el índice *a* y *b-1*, es decir, corresponde a una selección de intervalo cerrado, abierto, por ejemplo:\n",
    "\n",
    "\n",
    "<img src=\"../../images/python_slice_04.png\" alt=\"\" style=\"width: 400px;\"/>\n",
    "<img src=\"../../images/python_slice_05.png\" alt=\"\" style=\"width: 400px;\"/>"
   ]
  },
  {
   "cell_type": "code",
   "execution_count": null,
   "metadata": {},
   "outputs": [],
   "source": [
    "print( x[0:4]  )\n",
    "print( x[4:7]  )"
   ]
  },
  {
   "cell_type": "markdown",
   "metadata": {},
   "source": [
    "Es posible combinar índices positivos y negativos, por ejemplo:\n",
    "<img src=\"../../images/python_slice_06.png\" alt=\"\" style=\"width: 400px;\"/>\n",
    "<img src=\"../../images/python_slice_07.png\" alt=\"\" style=\"width: 400px;\"/>"
   ]
  },
  {
   "cell_type": "code",
   "execution_count": null,
   "metadata": {},
   "outputs": [],
   "source": [
    "print( x[4:-2]  )\n",
    "print( x[4:8]  )\n",
    "print( x[2:-2]  ) "
   ]
  },
  {
   "cell_type": "markdown",
   "metadata": {},
   "source": [
    "Slice que omite el último elemento\n",
    "<img src=\"../../images/python_slice_08.png\" alt=\"\" style=\"width: 400px;\"/>\n",
    "\n",
    "Slice que omite el primer elemento\n",
    "<img src=\"../../images/python_slice_09.png\" alt=\"\" style=\"width: 400px;\"/>"
   ]
  },
  {
   "cell_type": "code",
   "execution_count": null,
   "metadata": {},
   "outputs": [],
   "source": [
    "print( x[:-1] )\n",
    "print( x[1: ] )"
   ]
  },
  {
   "cell_type": "markdown",
   "metadata": {},
   "source": [
    "Slice seleccionando elementos equiespaciados (submuestreo).\n",
    "\n",
    "de 2 en 2:\n",
    "<img src=\"../../images/python_slice_10.png\" alt=\"\" style=\"width: 400px;\"/>\n",
    "\n",
    "de 3 en 3:\n",
    "<img src=\"../../images/python_slice_11.png\" alt=\"\" style=\"width: 400px;\"/>"
   ]
  },
  {
   "cell_type": "code",
   "execution_count": null,
   "metadata": {},
   "outputs": [],
   "source": [
    "print( x[ ::2] )\n",
    "print( x[1::2] )\n",
    "print( x[ ::3] )"
   ]
  },
  {
   "cell_type": "markdown",
   "metadata": {},
   "source": [
    "Para invertir una lista se utiliza la sintaxis \\[::-1\\]\n",
    "<img src=\"../../images/python_slice_13.png\" alt=\"\" style=\"width: 400px;\"/>"
   ]
  },
  {
   "cell_type": "code",
   "execution_count": null,
   "metadata": {},
   "outputs": [],
   "source": [
    "print( x[::-1] )"
   ]
  },
  {
   "cell_type": "markdown",
   "metadata": {},
   "source": [
    "Combinando el submuestreo y la inversión\n",
    "<img src=\"../../images/python_slice_14.png\" alt=\"\" style=\"width: 400px;\"/>"
   ]
  },
  {
   "cell_type": "code",
   "execution_count": null,
   "metadata": {},
   "outputs": [],
   "source": [
    "print( x[::-1][::2] )\n",
    "print( x[::-2] )"
   ]
  },
  {
   "cell_type": "markdown",
   "metadata": {},
   "source": [
    "### Sobrecarga de operadores en las listas\n",
    "\n",
    "El operador suma (+) aplicado a listas es una concatenación, para ello ambos elementos deben ser listas\n"
   ]
  },
  {
   "cell_type": "code",
   "execution_count": null,
   "metadata": {},
   "outputs": [],
   "source": [
    "y = [2, -4, 8, -16, ]\n",
    "w = [1,2]\n",
    "\n",
    "print( y+w )\n",
    "print( y+w+[0] )\n",
    "print( w+y )"
   ]
  },
  {
   "cell_type": "markdown",
   "metadata": {},
   "source": [
    "Por otra parte, el producto (\\*) únicamente está definido cuando los operandos son un entero y una lista; el entero indica el número de veces que la lista se repetirá, el resultado es una lista, por ejemplo:\n"
   ]
  },
  {
   "cell_type": "code",
   "execution_count": null,
   "metadata": {},
   "outputs": [],
   "source": [
    "print( 2*w  )\n",
    "print( 5*w )"
   ]
  },
  {
   "cell_type": "markdown",
   "metadata": {},
   "source": [
    "#### Ejemplo de conversión de strings a list :\n",
    "<p style=\"background-color:#D8E3CF;\">\n",
    "El bot capturista encontró que los apellidos de los alumnos no se encontraban en una lista sino que eran una cadena de caracteres. Ayudalo a transformar esta cadena en una lista y ordenarla alfabéticamente.</p>\n",
    "\n",
    "<p style=\"background-color:#D8E3CF;\">\n",
    "    En primer lugar se corroborá que no es posible seleccionar un apellido completo a partir de la cadena de caracteres.\n",
    "</p>"
   ]
  },
  {
   "cell_type": "code",
   "execution_count": null,
   "metadata": {
    "scrolled": true
   },
   "outputs": [],
   "source": [
    "x = 'Zamora, Paredes, Mejia, Dorantes, Ramirez, Aguilera, Perez, Olivares, Romero, Mendez, Segura, Rodriguez, Martinez'\n",
    "print( x[2] )"
   ]
  },
  {
   "cell_type": "markdown",
   "metadata": {},
   "source": [
    "<p style=\"background-color:#D8E3CF;\">\n",
    "    En primer lugar se utilizará la función <i>split</i> del objeto String.\n",
    "</p>"
   ]
  },
  {
   "cell_type": "code",
   "execution_count": null,
   "metadata": {
    "scrolled": true
   },
   "outputs": [],
   "source": [
    "x = x.split(', ')\n",
    "print( x )"
   ]
  },
  {
   "cell_type": "code",
   "execution_count": null,
   "metadata": {},
   "outputs": [],
   "source": [
    "print( help(''.split) )"
   ]
  },
  {
   "cell_type": "markdown",
   "metadata": {},
   "source": [
    "<p style=\"background-color:#D8E3CF;\">\n",
    "    para ordenar se utiliza la función <i>sort()</i> del objeto <i>list</i>\n",
    "</p>"
   ]
  },
  {
   "cell_type": "code",
   "execution_count": null,
   "metadata": {},
   "outputs": [],
   "source": [
    "x.sort()\n",
    "print(x)"
   ]
  },
  {
   "cell_type": "markdown",
   "metadata": {},
   "source": [
    "<br></br>\n",
    "#### Ejemplo para insertar y eliminar elementos de una lista:\n",
    "<p style=\"background-color:#D8E3CF;\">\n",
    "    Es semana de altas, bajas y cambios, los alumnos Olivares y Dorantes se dieron de baja, mientras que los alumnos Bojorges, Valdez y Sanchez se dieron de alta. Ayuda el bot a actualizar la lista y ordenarla.\n",
    "</p>\n",
    "\n",
    "<p style=\"background-color:#D8E3CF;\">\n",
    " En primer lugar se localizan los apellidos que se darán de baja\n",
    "</p>"
   ]
  },
  {
   "cell_type": "code",
   "execution_count": null,
   "metadata": {},
   "outputs": [],
   "source": [
    "print( x[1] )\n",
    "print( x[5] )"
   ]
  },
  {
   "cell_type": "markdown",
   "metadata": {},
   "source": [
    "<p style=\"background-color:#D8E3CF;\">\n",
    "    Luego se eliminarán dichos elementos, para ello se utiliza la función del núcleo de python <i>del</i> de la siguiente forma:\n",
    "</p>"
   ]
  },
  {
   "cell_type": "code",
   "execution_count": null,
   "metadata": {},
   "outputs": [],
   "source": [
    "del (x[1])\n",
    "del (x[5])\n",
    "print( x )"
   ]
  },
  {
   "cell_type": "markdown",
   "metadata": {},
   "source": [
    "<p style=\"background-color:#D8E3CF;\">\n",
    " En seguida se agregan los apellidos que se dan de alta\n",
    "</p>"
   ]
  },
  {
   "cell_type": "code",
   "execution_count": null,
   "metadata": {},
   "outputs": [],
   "source": [
    "x.append( 'Bojorges' )\n",
    "x.append( 'Valdez'   )\n",
    "x.append( 'Sanchez'  )\n",
    "\n",
    "print( x )"
   ]
  },
  {
   "cell_type": "markdown",
   "metadata": {},
   "source": [
    "<p style=\"background-color:#D8E3CF;\">\n",
    " Y finalmente se ordena la lista\n",
    "</p>"
   ]
  },
  {
   "cell_type": "code",
   "execution_count": null,
   "metadata": {},
   "outputs": [],
   "source": [
    "x.sort()\n",
    "print( x )"
   ]
  },
  {
   "cell_type": "markdown",
   "metadata": {},
   "source": [
    "<br></br>\n",
    "#### Ejemplo de modifinación de listas\n",
    "<p style=\"background-color:#D8E3CF;\">\n",
    " El alumno Valdez le ha reclamado al bot capturista ya que su apellido es de origen portugués, es decir, se escribe con con s en lugar de z. Ayuda al bot a corregirlo.\n",
    "</p>\n",
    "\n",
    "<p style=\"background-color:#D8E3CF;\">\n",
    " Primeramente identificar el elemento a corregir\n",
    "</p>"
   ]
  },
  {
   "cell_type": "code",
   "execution_count": null,
   "metadata": {},
   "outputs": [],
   "source": [
    "print x[-2]\n",
    "print x[13] #ambas formas son correctas, elige la que gustes"
   ]
  },
  {
   "cell_type": "markdown",
   "metadata": {},
   "source": [
    "<p style=\"background-color:#D8E3CF;\">\n",
    " Lo siguiente es sobreescribir dicho valor con la cadena deseada\n",
    "</p>"
   ]
  },
  {
   "cell_type": "code",
   "execution_count": null,
   "metadata": {},
   "outputs": [],
   "source": [
    "x[-2] = 'Valdes'\n",
    "print( x )"
   ]
  },
  {
   "cell_type": "markdown",
   "metadata": {},
   "source": [
    "### Listas con datos que no son del mismo tipo"
   ]
  },
  {
   "cell_type": "markdown",
   "metadata": {},
   "source": [
    "Esto en lenguajes como C, C++ o Java no es posible :p al menos no directamente."
   ]
  },
  {
   "cell_type": "code",
   "execution_count": null,
   "metadata": {
    "scrolled": true
   },
   "outputs": [],
   "source": [
    "x = [1, 'hola', 3.1416, False, -.0654, 0.62E-30, 8+3.5j]\n",
    "print(x)"
   ]
  },
  {
   "cell_type": "markdown",
   "metadata": {},
   "source": [
    "A continuación algunos ejemplos que combinan las funciones vistas anteriormente"
   ]
  },
  {
   "cell_type": "code",
   "execution_count": null,
   "metadata": {},
   "outputs": [],
   "source": [
    "y = [0,1,2,3]\n",
    "y = y + ['x',-9.2]\n",
    "print( y )"
   ]
  },
  {
   "cell_type": "code",
   "execution_count": null,
   "metadata": {
    "scrolled": true
   },
   "outputs": [],
   "source": [
    "x.append(y)\n",
    "print( x+['Aquí termina esta sección'] )"
   ]
  }
 ],
 "metadata": {
  "kernelspec": {
   "display_name": "Python 3",
   "language": "python",
   "name": "python3"
  },
  "language_info": {
   "codemirror_mode": {
    "name": "ipython",
    "version": 3
   },
   "file_extension": ".py",
   "mimetype": "text/x-python",
   "name": "python",
   "nbconvert_exporter": "python",
   "pygments_lexer": "ipython3",
   "version": "3.6.8"
  }
 },
 "nbformat": 4,
 "nbformat_minor": 2
}
