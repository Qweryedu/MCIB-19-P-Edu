{
 "cells": [
  {
   "cell_type": "markdown",
   "metadata": {},
   "source": [
    "# Biblioteca Estándar de Python\n",
    "\n",
    "La [Python Standard Library](https://docs.python.org/2/library/) tiene bibliotecas para diversas aplicaciones como son: operaciones matemáticas, protocolos de comunicación, estructuras de datos, gestión de bases de datos, interacción con el sistema de archivos, gestión de algunos tipos de archivos, etc.\n",
    "\n",
    "Las bibliotecas estándar son natival al núcleo de Python por lo que se instalan automáticamente al instalarlo, ejemplos de estas bibliotecas son: math, sys, re, os, logging, collections, struct, list, hash, random, socket, XML, etc."
   ]
  },
  {
   "cell_type": "markdown",
   "metadata": {},
   "source": [
    "## 2.1. Primer programa: Hola Mundo!"
   ]
  },
  {
   "cell_type": "code",
   "execution_count": null,
   "metadata": {},
   "outputs": [],
   "source": [
    "print('Hola Mundo!')"
   ]
  },
  {
   "cell_type": "markdown",
   "metadata": {},
   "source": [
    "Como se observa, no se requiere importar ninguna biblioteca para ejecutar *print* ya que este se carga automáticamente al iniciar python.\n",
    "\n",
    "## 2.2. Definición de cadenas de caracteres\n",
    "La sintaxis para una cadena de texto puede ser de tres formas distintas:\n",
    "\n",
    "```python\n",
    "print('cadena de texto!')\n",
    "print(\"cadena de texto!\")\n",
    "print(\"\"\"\n",
    "        cadena\n",
    "          de\n",
    "        texto!\n",
    "      \"\"\" )\n",
    "print('''\n",
    "        cadena\n",
    "          de\n",
    "        texto!\n",
    "       ''' )\n",
    "```\n",
    "\n",
    "En el primer caso se utiliza apostrofe, en el segundo comillas; estas dos sintaxis pueden ser intercambiadas son ningún problema. En el tercer caso, se utilizan tres comillas simples para hacer referencia a un texto multi-línea, que tambien se puede indicar como se muestra en el cuarto caso con tres apostrofes."
   ]
  },
  {
   "cell_type": "code",
   "execution_count": null,
   "metadata": {
    "scrolled": true
   },
   "outputs": [],
   "source": [
    "print('cadena de texto!')\n",
    "print(\"cadena de texto!\")\n",
    "print(\"\"\"\n",
    "         cadena\n",
    "           de\n",
    "         texto!\n",
    "       \"\"\" )\n",
    "print('''\n",
    "         cadena\n",
    "           de\n",
    "         texto!\n",
    "       ''' )"
   ]
  },
  {
   "cell_type": "markdown",
   "metadata": {},
   "source": [
    "## 2.3. Miselaneo\n",
    "\n",
    "#### Comentarios\n",
    "Existen tres sintaxis para comentarios:\n",
    "\n",
    "```python\n",
    "# 1. comentario de una línea\n",
    "\n",
    "\"\"\"\n",
    " 2. Comentario \n",
    " multi-línea\n",
    "\"\"\"\n",
    "\n",
    "'''\n",
    " 3. Comentario \n",
    " multi-línea\n",
    "'''\n",
    "```\n",
    "\n",
    "#### Ayuda\n",
    "Para obtener ayuda de un módulo se utiliza el método *help* del núcleo de python:\n",
    "```python\n",
    "help(package.subpackage.nombre_metodo)\n",
    "```\n",
    "\n",
    "**por ejemplo**"
   ]
  },
  {
   "cell_type": "code",
   "execution_count": null,
   "metadata": {},
   "outputs": [],
   "source": [
    "help(print)"
   ]
  },
  {
   "cell_type": "markdown",
   "metadata": {},
   "source": [
    "## 2.4. Operaciones básicas"
   ]
  },
  {
   "cell_type": "code",
   "execution_count": null,
   "metadata": {},
   "outputs": [],
   "source": [
    "\"\"\"\n",
    " @param: a numero\n",
    " @param: b numero\n",
    " \n",
    " @var: sm -> suma\n",
    " @var: rs -> resta\n",
    " @var: mp -> multiplicación\n",
    " @var: dv -> division con punto flotante\n",
    " @var: en -> división entera\n",
    " @var: rd -> residuo de la división\n",
    "\"\"\"\n",
    "a  = 5\n",
    "b  = 8\n",
    "sm = a+b\n",
    "rs = b-a\n",
    "mp = -a*b\n",
    "dv = b/a\n",
    "en = b//a\n",
    "rd = b%a\n",
    "\n",
    "print(sm)\n",
    "print(rs)\n",
    "print(mp)\n",
    "print(dv)\n",
    "print(en)\n",
    "print(rd)"
   ]
  },
  {
   "cell_type": "code",
   "execution_count": null,
   "metadata": {},
   "outputs": [],
   "source": [
    "sqrt(4.)"
   ]
  },
  {
   "cell_type": "markdown",
   "metadata": {},
   "source": [
    "<hr></hr>\n",
    "La celda anterior debió generar un error, esto se debe a que la función para calcular la raíz cuadrada no es parte de la biblioteca estándar de python. En las siguientes secciones se explicarán las diversas formas de importar bibliotecas."
   ]
  },
  {
   "cell_type": "markdown",
   "metadata": {},
   "source": [
    "## 2.5. Gestión de Bibliotecas\n",
    "\n",
    "El núcleo de python se inicializa cargando las bibliotecas indispensables para el su funcionamiento."
   ]
  },
  {
   "cell_type": "markdown",
   "metadata": {},
   "source": [
    "#### math: biblioteca de funciones matemáticas"
   ]
  },
  {
   "cell_type": "code",
   "execution_count": null,
   "metadata": {},
   "outputs": [],
   "source": [
    "import math\n",
    "\n",
    "print( math.sqrt(4.) )"
   ]
  },
  {
   "cell_type": "markdown",
   "metadata": {},
   "source": [
    "#### random: biblioteca de funciones para generar números aleatorios"
   ]
  },
  {
   "cell_type": "code",
   "execution_count": null,
   "metadata": {},
   "outputs": [],
   "source": [
    "import random\n",
    "\n",
    "print( random.gauss(0,1) )"
   ]
  },
  {
   "cell_type": "markdown",
   "metadata": {},
   "source": [
    "### Variantes del proceso de importación: asignar un alias"
   ]
  },
  {
   "cell_type": "code",
   "execution_count": null,
   "metadata": {},
   "outputs": [],
   "source": [
    "import math   as mt\n",
    "import random as rd\n",
    "\n",
    "print( mt.sqrt(4.)   )\n",
    "print( rd.gauss(0,1) )"
   ]
  },
  {
   "cell_type": "markdown",
   "metadata": {},
   "source": [
    "### Variantes del proceso de importación: importar una función específica"
   ]
  },
  {
   "cell_type": "code",
   "execution_count": null,
   "metadata": {},
   "outputs": [],
   "source": [
    "from math   import sqrt\n",
    "from random import gauss\n",
    "\n",
    "print( sqrt(4.)   )\n",
    "print( gauss(0,1) )"
   ]
  },
  {
   "cell_type": "code",
   "execution_count": null,
   "metadata": {},
   "outputs": [],
   "source": [
    "from math import sin, cos, tan, pi\n",
    "\n",
    "print( sin(pi/2) )\n",
    "print( cos(pi/2) )\n",
    "print( tan(pi/3) )\n"
   ]
  },
  {
   "cell_type": "markdown",
   "metadata": {},
   "source": [
    "### Variantes del proceso de importación: importar funciones específicas y asignar un alias"
   ]
  },
  {
   "cell_type": "code",
   "execution_count": null,
   "metadata": {},
   "outputs": [],
   "source": [
    "from math   import sqrt  as sq\n",
    "from random import gauss as rdg, randrange as rdrr\n",
    "\n",
    "print( sq(4.)     )\n",
    "print( rdg(0,1)   )\n",
    "print( rdrr(5,20) )\n"
   ]
  },
  {
   "cell_type": "markdown",
   "metadata": {},
   "source": [
    "## 2.6. Funciones auxiliares"
   ]
  },
  {
   "cell_type": "markdown",
   "metadata": {},
   "source": [
    "#### dir: desplegar lista de atributos y funciones de una biblioteca"
   ]
  },
  {
   "cell_type": "code",
   "execution_count": null,
   "metadata": {},
   "outputs": [],
   "source": [
    "import random\n",
    "\n",
    "print( dir(random) )"
   ]
  },
  {
   "cell_type": "markdown",
   "metadata": {},
   "source": [
    "#### help: deplegar la ayuda de una biblioteca"
   ]
  },
  {
   "cell_type": "code",
   "execution_count": null,
   "metadata": {},
   "outputs": [],
   "source": [
    "import random\n",
    "\n",
    "print( help(random) )"
   ]
  },
  {
   "cell_type": "markdown",
   "metadata": {},
   "source": [
    "#### help: deplegar la ayuda de una función"
   ]
  },
  {
   "cell_type": "code",
   "execution_count": null,
   "metadata": {},
   "outputs": [],
   "source": [
    "import random\n",
    "\n",
    "print( help(random.gauss) )"
   ]
  },
  {
   "cell_type": "markdown",
   "metadata": {},
   "source": [
    "#### help: deplegar la ayuda de una función con alias"
   ]
  },
  {
   "cell_type": "code",
   "execution_count": null,
   "metadata": {},
   "outputs": [],
   "source": [
    "from random import gauss as rdg\n",
    "\n",
    "print( help(rdg) )"
   ]
  },
  {
   "cell_type": "markdown",
   "metadata": {},
   "source": [
    "## 2.7. Tipos de datos básicos"
   ]
  },
  {
   "cell_type": "markdown",
   "metadata": {},
   "source": [
    "Las variables se asignan en tiempo de ejecución, por lo que no requieren ser declaradas.\n"
   ]
  },
  {
   "cell_type": "code",
   "execution_count": null,
   "metadata": {},
   "outputs": [],
   "source": [
    "x = 1\n",
    "print(x)\n",
    "\n",
    "x = 1.\n",
    "print(x)\n",
    "\n",
    "x = 'a'\n",
    "print(x)\n",
    "\n",
    "x = 'hola mundo'\n",
    "print(x)\n",
    "\n",
    "x = True\n",
    "print(x)\n",
    "\n",
    "x = 5 - 1j\n",
    "print(x)"
   ]
  },
  {
   "cell_type": "markdown",
   "metadata": {},
   "source": [
    "### Variantes en la definición de cadenas de caracteres"
   ]
  },
  {
   "cell_type": "code",
   "execution_count": null,
   "metadata": {
    "scrolled": true
   },
   "outputs": [],
   "source": [
    "#apostrofe\n",
    "x = 'hola'\n",
    "print(x)\n",
    "\n",
    "#comillas\n",
    "x = \"hola\"\n",
    "print(x)\n",
    "\n",
    "#triple comilla\n",
    "x = \"\"\"\\tEsta sirve\n",
    "        para texto en varias \n",
    "        lineas\"\"\"\n",
    "print(x)\n"
   ]
  },
  {
   "cell_type": "markdown",
   "metadata": {},
   "source": [
    "## 2.8. Funciones del núcleo de python"
   ]
  },
  {
   "cell_type": "markdown",
   "metadata": {},
   "source": [
    "#### len(x): regresa la longitud (número de elementos) de x"
   ]
  },
  {
   "cell_type": "code",
   "execution_count": null,
   "metadata": {},
   "outputs": [],
   "source": [
    "x = \"hola\"\n",
    "print( x )\n",
    "print( len(x) )"
   ]
  },
  {
   "cell_type": "markdown",
   "metadata": {},
   "source": [
    "#### int(x): convierte x en un entero"
   ]
  },
  {
   "cell_type": "code",
   "execution_count": null,
   "metadata": {},
   "outputs": [],
   "source": [
    "x = 27.25658\n",
    "print( int(x) )"
   ]
  },
  {
   "cell_type": "markdown",
   "metadata": {},
   "source": [
    "#### float(x): convierte x en un número de punto flotante"
   ]
  },
  {
   "cell_type": "code",
   "execution_count": null,
   "metadata": {},
   "outputs": [],
   "source": [
    "x = 1\n",
    "print( float(x) )"
   ]
  },
  {
   "cell_type": "code",
   "execution_count": null,
   "metadata": {},
   "outputs": [],
   "source": [
    "x = '-2.8598'\n",
    "y = float(x)\n",
    "print( x+'1' )\n",
    "print( y+ 1  )"
   ]
  },
  {
   "cell_type": "markdown",
   "metadata": {},
   "source": [
    "## 2.9. Entrada estándar\n",
    "\n",
    "El método *input* es el que lee datos ingresados por la entrada estándar (teclado) y los asigna a una variable siempre en formato texto."
   ]
  },
  {
   "cell_type": "code",
   "execution_count": null,
   "metadata": {},
   "outputs": [],
   "source": [
    "data = input('ingresa un valor: ')"
   ]
  },
  {
   "cell_type": "code",
   "execution_count": null,
   "metadata": {},
   "outputs": [],
   "source": [
    "print( data )"
   ]
  },
  {
   "cell_type": "code",
   "execution_count": null,
   "metadata": {},
   "outputs": [],
   "source": [
    "print( data + 2.7 )"
   ]
  },
  {
   "cell_type": "markdown",
   "metadata": {},
   "source": [
    "<br></br>\n",
    "La celda anterior debió generar un error, por la codificación en texto, en todo caso, se puede utilizar la concatenación:"
   ]
  },
  {
   "cell_type": "code",
   "execution_count": null,
   "metadata": {},
   "outputs": [],
   "source": [
    "print( data + '2.7' )"
   ]
  },
  {
   "cell_type": "markdown",
   "metadata": {},
   "source": [
    "Finalmente, a continuación se muestran un par de *snippet* para conversión entre datos"
   ]
  },
  {
   "cell_type": "code",
   "execution_count": null,
   "metadata": {},
   "outputs": [],
   "source": [
    "data = input('ingresa un dato: ')\n",
    "\n",
    "print(      float(data) + 2.7 )  \n",
    "print( int( float(data) + 2.7 )  )"
   ]
  },
  {
   "cell_type": "markdown",
   "metadata": {},
   "source": [
    "### Ejercicios:\n",
    "\n",
    "Sin utilizar a internet, investigue como funciona la biblioteca *random* y resuelva lo siguiente:\n",
    "\n",
    "1. Genere una secuencia de 5 números enteros aleatorios\n",
    "1. Genere una secuencia de 5 números aleatorios de distribución gaussiana de media 0 y varianza .5\n",
    "1. Genere una secuencia de 5 números aleatorios de distribución gaussiana de media -1 y varianza 2\n",
    "1. Repita los ejercicios 2 y 3 incluyento el método *round* de la biblioteca estándar para redondear a 4 cifras decimales."
   ]
  }
 ],
 "metadata": {
  "kernelspec": {
   "display_name": "Python 3",
   "language": "python",
   "name": "python3"
  },
  "language_info": {
   "codemirror_mode": {
    "name": "ipython",
    "version": 3
   },
   "file_extension": ".py",
   "mimetype": "text/x-python",
   "name": "python",
   "nbconvert_exporter": "python",
   "pygments_lexer": "ipython3",
   "version": "3.6.8"
  }
 },
 "nbformat": 4,
 "nbformat_minor": 2
}
