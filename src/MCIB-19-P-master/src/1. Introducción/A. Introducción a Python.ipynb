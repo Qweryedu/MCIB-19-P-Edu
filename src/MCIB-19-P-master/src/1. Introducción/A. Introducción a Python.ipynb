{
 "cells": [
  {
   "cell_type": "markdown",
   "metadata": {},
   "source": [
    "# 1. Introducción a Python v3.7"
   ]
  },
  {
   "cell_type": "markdown",
   "metadata": {},
   "source": [
    "## Origen del nombre\n",
    "\n",
    "<br></br>\n",
    "In December 1989, I was looking for a **hobby** programming project that would keep me occupied during the week around Christmas. My office would be closed, but I had a home computer, and not much else on my hands. I decided to **write an interpreter for the new scripting language** I had been thinking about lately: a descendant of ABC that would appeal to Unix/C hackers. I chose Python as a working title for the project, being in a slightly irreverent mood.\n",
    "\n",
    "<br></br>\n",
    "<div align=\"right\"> Guido van Rossum </div>\n",
    "\n",
    "El origen del nombre es el grupo de humoristas Monty Python\n",
    "<br></br>\n",
    "<img src=\"../../images/monty-python.png\" alt=\"Movie: Monty python and the holy grail (1971)\" style=\"width: 250px;\"/>\n",
    "\n",
    "\n",
    "\n"
   ]
  },
  {
   "cell_type": "markdown",
   "metadata": {},
   "source": [
    "## 1.1. ¿Qué es Python?\n",
    "\n",
    "Lenguaje de programación interpretado, multi-paradigma\n",
    "\n",
    "<img src=\"../../images/Frankenstein-python.png\" alt=\"German vs Greece philosopher football match\" style=\"width: 400px;\"/>"
   ]
  },
  {
   "cell_type": "markdown",
   "metadata": {},
   "source": [
    "## 1.2 Arquitectura de Python\n",
    "<br></br>\n",
    "<img src=\"../../images/python-architecture.png\" alt=\"Python paradigm\" style=\"width: 500px;\"/>\n",
    "\n",
    "<br></br>\n",
    "*Nota:* Las imágenes utilizadas para este diagrama son propiedad de cada proyecto y sólo son mostradas con fines informativos."
   ]
  },
  {
   "cell_type": "markdown",
   "metadata": {},
   "source": [
    "## 1.3. Instalación"
   ]
  },
  {
   "cell_type": "markdown",
   "metadata": {},
   "source": [
    "### Windows\n",
    "Descargar la instalación completa ~500 MB de [Anaconda](https://www.anaconda.com/download/) para python v3.7; seguir los pasos de instalación.\n",
    "\n",
    "### Mac\n",
    "Descargar la instalación completa ~600 MB de [Anaconda](https://www.anaconda.com/download/) para python v3.7; seguir los pasos de instalación.\n",
    "\n",
    "### Linux\n",
    "Aunque también se puede descargar de [Anaconda](https://www.anaconda.com/download/), como en los dos casos anteriores; se propone un script que instala Python 3.7 en distribuciones basadas en Debian. La ventaja de este método de instalación es que el código se compila para que pueda ser ejecutado en varios núcleos a la vez, disminuyendo el tiempo de ejecución en tareas computacionalmente complejas. Con las adecuaciones correctas, este script también puede utilizarse en Mac.\n",
    "\n",
    "```bash\n",
    "sudo -s\n",
    "\n",
    "apt build-dep python\n",
    "apt install python-pip\n",
    "apt build-dep python-numpy python-scipy\n",
    "\n",
    "pip install --upgrade pip\n",
    "pip install --upgrade numpy scipy\n",
    "pip install --upgrade scikit-learn\n",
    "pip install --upgrade jupyter\n",
    "pip install --upgrade matplotlib\n",
    "pip install --upgrade seaborn\n",
    "pip install --upgrade scikit-image\n",
    "pip install --upgrade wfdb\n",
    "pip install --upgrade pandas\n",
    "\n",
    "apt install python-setuptools python-mdp python-biosig spyder \n",
    "```\n"
   ]
  },
  {
   "cell_type": "markdown",
   "metadata": {},
   "source": [
    "## 1.4. Ambientes de desarrollo\n",
    "\n",
    "|Ambiente |Ejecución          |Uso           |\n",
    "|:---     |:----              |----          |\n",
    "|IPy\\[\\]  |Interactiva        |Aprender      |\n",
    "|Jupyter  |Interactiva        |Aprender/Notas|\n",
    "|Spyder   |Completa/Depuración|Desarrollo    |\n",
    "|Consola + Editor de texto  |Completa/Depuración|Desarrollo    |\n"
   ]
  }
 ],
 "metadata": {
  "kernelspec": {
   "display_name": "Python 3",
   "language": "python",
   "name": "python3"
  },
  "language_info": {
   "codemirror_mode": {
    "name": "ipython",
    "version": 3
   },
   "file_extension": ".py",
   "mimetype": "text/x-python",
   "name": "python",
   "nbconvert_exporter": "python",
   "pygments_lexer": "ipython3",
   "version": "3.6.8"
  }
 },
 "nbformat": 4,
 "nbformat_minor": 2
}
